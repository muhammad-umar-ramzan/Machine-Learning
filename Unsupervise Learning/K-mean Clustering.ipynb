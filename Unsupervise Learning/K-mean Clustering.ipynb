{
 "cells": [
  {
   "cell_type": "code",
   "execution_count": 87,
   "id": "cc2f5003-9f85-4988-991a-252230d7cbe6",
   "metadata": {},
   "outputs": [],
   "source": [
    "import pandas as pd\n",
    "from sklearn.cluster import KMeans\n",
    "from sklearn.preprocessing import MinMaxScaler\n",
    "import matplotlib.pyplot as plt\n",
    "%matplotlib inline"
   ]
  },
  {
   "cell_type": "code",
   "execution_count": 88,
   "id": "c1c11971-018f-4d3d-b631-e68ececccd9c",
   "metadata": {},
   "outputs": [
    {
     "data": {
      "text/html": [
       "<div>\n",
       "<style scoped>\n",
       "    .dataframe tbody tr th:only-of-type {\n",
       "        vertical-align: middle;\n",
       "    }\n",
       "\n",
       "    .dataframe tbody tr th {\n",
       "        vertical-align: top;\n",
       "    }\n",
       "\n",
       "    .dataframe thead th {\n",
       "        text-align: right;\n",
       "    }\n",
       "</style>\n",
       "<table border=\"1\" class=\"dataframe\">\n",
       "  <thead>\n",
       "    <tr style=\"text-align: right;\">\n",
       "      <th></th>\n",
       "      <th>Name</th>\n",
       "      <th>Age</th>\n",
       "      <th>Income($)</th>\n",
       "    </tr>\n",
       "  </thead>\n",
       "  <tbody>\n",
       "    <tr>\n",
       "      <th>0</th>\n",
       "      <td>Rob</td>\n",
       "      <td>27</td>\n",
       "      <td>70000</td>\n",
       "    </tr>\n",
       "    <tr>\n",
       "      <th>1</th>\n",
       "      <td>Michael</td>\n",
       "      <td>29</td>\n",
       "      <td>90000</td>\n",
       "    </tr>\n",
       "    <tr>\n",
       "      <th>2</th>\n",
       "      <td>Mohan</td>\n",
       "      <td>29</td>\n",
       "      <td>61000</td>\n",
       "    </tr>\n",
       "    <tr>\n",
       "      <th>3</th>\n",
       "      <td>Ismail</td>\n",
       "      <td>28</td>\n",
       "      <td>60000</td>\n",
       "    </tr>\n",
       "    <tr>\n",
       "      <th>4</th>\n",
       "      <td>Kory</td>\n",
       "      <td>42</td>\n",
       "      <td>150000</td>\n",
       "    </tr>\n",
       "  </tbody>\n",
       "</table>\n",
       "</div>"
      ],
      "text/plain": [
       "      Name  Age  Income($)\n",
       "0      Rob   27      70000\n",
       "1  Michael   29      90000\n",
       "2    Mohan   29      61000\n",
       "3   Ismail   28      60000\n",
       "4     Kory   42     150000"
      ]
     },
     "execution_count": 88,
     "metadata": {},
     "output_type": "execute_result"
    }
   ],
   "source": [
    "df=pd.read_csv(\"income.csv\" )\n",
    "df.head()"
   ]
  },
  {
   "cell_type": "code",
   "execution_count": 89,
   "id": "91f3c074-d48d-44bd-aaf2-1e7872acfcc9",
   "metadata": {},
   "outputs": [
    {
     "data": {
      "text/plain": [
       "<matplotlib.collections.PathCollection at 0x245d6c78050>"
      ]
     },
     "execution_count": 89,
     "metadata": {},
     "output_type": "execute_result"
    },
    {
     "data": {
      "image/png": "[encoded data removed]",
      "text/plain": [
       "<Figure size 640x480 with 1 Axes>"
      ]
     },
     "metadata": {},
     "output_type": "display_data"
    }
   ],
   "source": [
    "plt.scatter(df.Age,df[\"Income($)\"])"
   ]
  },
  {
   "cell_type": "code",
   "execution_count": 90,
   "id": "5147ad70-9226-4616-8607-b1a745391bb8",
   "metadata": {},
   "outputs": [],
   "source": [
    "km=KMeans(n_clusters=3)"
   ]
  },
  {
   "cell_type": "code",
   "execution_count": 91,
   "id": "963f9c62-0b5d-4082-9899-3f282ae64849",
   "metadata": {},
   "outputs": [],
   "source": [
    "predict=km.fit_predict(df[[\"Age\",\"Income($)\"]])"
   ]
  },
  {
   "cell_type": "code",
   "execution_count": 92,
   "id": "ac3388cd-fbc7-4f72-a5b4-dd0814d2016b",
   "metadata": {},
   "outputs": [],
   "source": [
    "df[\"predict\"]=predict"
   ]
  },
  {
   "cell_type": "code",
   "execution_count": 93,
   "id": "36921a8c-e326-46b8-a38c-87b8725a318f",
   "metadata": {},
   "outputs": [
    {
     "data": {
      "text/plain": [
       "array([[3.40000000e+01, 8.05000000e+04],\n",
       "       [3.82857143e+01, 1.50000000e+05],\n",
       "       [3.29090909e+01, 5.61363636e+04]])"
      ]
     },
     "execution_count": 93,
     "metadata": {},
     "output_type": "execute_result"
    }
   ],
   "source": [
    "km.cluster_centers_"
   ]
  },
  {
   "cell_type": "code",
   "execution_count": 94,
   "id": "69e5ffb4-fe43-4a28-a62f-20f948d441df",
   "metadata": {},
   "outputs": [
    {
     "data": {
      "text/html": [
       "<div>\n",
       "<style scoped>\n",
       "    .dataframe tbody tr th:only-of-type {\n",
       "        vertical-align: middle;\n",
       "    }\n",
       "\n",
       "    .dataframe tbody tr th {\n",
       "        vertical-align: top;\n",
       "    }\n",
       "\n",
       "    .dataframe thead th {\n",
       "        text-align: right;\n",
       "    }\n",
       "</style>\n",
       "<table border=\"1\" class=\"dataframe\">\n",
       "  <thead>\n",
       "    <tr style=\"text-align: right;\">\n",
       "      <th></th>\n",
       "      <th>Name</th>\n",
       "      <th>Age</th>\n",
       "      <th>Income($)</th>\n",
       "      <th>predict</th>\n",
       "    </tr>\n",
       "  </thead>\n",
       "  <tbody>\n",
       "    <tr>\n",
       "      <th>0</th>\n",
       "      <td>Rob</td>\n",
       "      <td>27</td>\n",
       "      <td>70000</td>\n",
       "      <td>0</td>\n",
       "    </tr>\n",
       "    <tr>\n",
       "      <th>1</th>\n",
       "      <td>Michael</td>\n",
       "      <td>29</td>\n",
       "      <td>90000</td>\n",
       "      <td>0</td>\n",
       "    </tr>\n",
       "    <tr>\n",
       "      <th>2</th>\n",
       "      <td>Mohan</td>\n",
       "      <td>29</td>\n",
       "      <td>61000</td>\n",
       "      <td>2</td>\n",
       "    </tr>\n",
       "    <tr>\n",
       "      <th>3</th>\n",
       "      <td>Ismail</td>\n",
       "      <td>28</td>\n",
       "      <td>60000</td>\n",
       "      <td>2</td>\n",
       "    </tr>\n",
       "    <tr>\n",
       "      <th>4</th>\n",
       "      <td>Kory</td>\n",
       "      <td>42</td>\n",
       "      <td>150000</td>\n",
       "      <td>1</td>\n",
       "    </tr>\n",
       "  </tbody>\n",
       "</table>\n",
       "</div>"
      ],
      "text/plain": [
       "      Name  Age  Income($)  predict\n",
       "0      Rob   27      70000        0\n",
       "1  Michael   29      90000        0\n",
       "2    Mohan   29      61000        2\n",
       "3   Ismail   28      60000        2\n",
       "4     Kory   42     150000        1"
      ]
     },
     "execution_count": 94,
     "metadata": {},
     "output_type": "execute_result"
    }
   ],
   "source": [
    "df.head()"
   ]
  },
  {
   "cell_type": "code",
   "execution_count": 95,
   "id": "6b5d4286-b929-4667-9c4b-79c7b3df7d64",
   "metadata": {},
   "outputs": [],
   "source": [
    "df0=df[df['predict']==0]\n",
    "df1=df[df['predict']==1]\n",
    "df2=df[df['predict']==2]"
   ]
  },
  {
   "cell_type": "code",
   "execution_count": 96,
   "id": "9e72b647-5665-4b3c-b4c8-de0603e7b28b",
   "metadata": {},
   "outputs": [
    {
     "data": {
      "text/plain": [
       "<matplotlib.legend.Legend at 0x245dae25ee0>"
      ]
     },
     "execution_count": 96,
     "metadata": {},
     "output_type": "execute_result"
    },
    {
     "data": {
      "image/png": "[encoded data removed]",
      "text/plain": [
       "<Figure size 640x480 with 1 Axes>"
      ]
     },
     "metadata": {},
     "output_type": "display_data"
    }
   ],
   "source": [
    "plt.scatter(df0.Age,df0[\"Income($)\"],color='green',label='Income($)')\n",
    "plt.scatter(df1.Age,df1[\"Income($)\"],color='red',label='Income($)')\n",
    "plt.scatter(df2.Age,df2[\"Income($)\"],color='blue',label='Income($)')\n",
    "plt.xlabel(\"Age\")\n",
    "plt.ylabel(\"Income($)\")\n",
    "plt.legend()"
   ]
  },
  {
   "cell_type": "code",
   "execution_count": 97,
   "id": "5dec190e-eb78-446b-b9f5-2c7953767203",
   "metadata": {},
   "outputs": [],
   "source": [
    "scale=MinMaxScaler()\n",
    "scale.fit(df[['Income($)']])\n",
    "df[[\"Income($)\"]]=scale.transform(df[[\"Income($)\"]])\n",
    "scale.fit(df[['Age']])\n",
    "df[[\"Age\"]]=scale.transform(df[[\"Age\"]])"
   ]
  },
  {
   "cell_type": "code",
   "execution_count": 98,
   "id": "b608242d-4476-455d-9db5-292676897c89",
   "metadata": {},
   "outputs": [
    {
     "data": {
      "text/html": [
       "<div>\n",
       "<style scoped>\n",
       "    .dataframe tbody tr th:only-of-type {\n",
       "        vertical-align: middle;\n",
       "    }\n",
       "\n",
       "    .dataframe tbody tr th {\n",
       "        vertical-align: top;\n",
       "    }\n",
       "\n",
       "    .dataframe thead th {\n",
       "        text-align: right;\n",
       "    }\n",
       "</style>\n",
       "<table border=\"1\" class=\"dataframe\">\n",
       "  <thead>\n",
       "    <tr style=\"text-align: right;\">\n",
       "      <th></th>\n",
       "      <th>Name</th>\n",
       "      <th>Age</th>\n",
       "      <th>Income($)</th>\n",
       "      <th>predict</th>\n",
       "    </tr>\n",
       "  </thead>\n",
       "  <tbody>\n",
       "    <tr>\n",
       "      <th>0</th>\n",
       "      <td>Rob</td>\n",
       "      <td>0.058824</td>\n",
       "      <td>0.213675</td>\n",
       "      <td>0</td>\n",
       "    </tr>\n",
       "    <tr>\n",
       "      <th>1</th>\n",
       "      <td>Michael</td>\n",
       "      <td>0.176471</td>\n",
       "      <td>0.384615</td>\n",
       "      <td>0</td>\n",
       "    </tr>\n",
       "    <tr>\n",
       "      <th>2</th>\n",
       "      <td>Mohan</td>\n",
       "      <td>0.176471</td>\n",
       "      <td>0.136752</td>\n",
       "      <td>2</td>\n",
       "    </tr>\n",
       "    <tr>\n",
       "      <th>3</th>\n",
       "      <td>Ismail</td>\n",
       "      <td>0.117647</td>\n",
       "      <td>0.128205</td>\n",
       "      <td>2</td>\n",
       "    </tr>\n",
       "    <tr>\n",
       "      <th>4</th>\n",
       "      <td>Kory</td>\n",
       "      <td>0.941176</td>\n",
       "      <td>0.897436</td>\n",
       "      <td>1</td>\n",
       "    </tr>\n",
       "  </tbody>\n",
       "</table>\n",
       "</div>"
      ],
      "text/plain": [
       "      Name       Age  Income($)  predict\n",
       "0      Rob  0.058824   0.213675        0\n",
       "1  Michael  0.176471   0.384615        0\n",
       "2    Mohan  0.176471   0.136752        2\n",
       "3   Ismail  0.117647   0.128205        2\n",
       "4     Kory  0.941176   0.897436        1"
      ]
     },
     "execution_count": 98,
     "metadata": {},
     "output_type": "execute_result"
    }
   ],
   "source": [
    "df.head()"
   ]
  },
  {
   "cell_type": "code",
   "execution_count": 99,
   "id": "d2e6d921-a6ab-4301-929e-13a213cef037",
   "metadata": {},
   "outputs": [],
   "source": [
    "km=KMeans(n_clusters=3)\n",
    "predict=km.fit_predict(df[[\"Age\",\"Income($)\"]])\n",
    "df[\"predict\"]=predict"
   ]
  },
  {
   "cell_type": "code",
   "execution_count": 100,
   "id": "edbbb1bb-db46-44c4-bee1-2f73480be1c4",
   "metadata": {},
   "outputs": [
    {
     "data": {
      "text/plain": [
       "array([[0.1372549 , 0.11633428],\n",
       "       [0.72268908, 0.8974359 ],\n",
       "       [0.85294118, 0.2022792 ]])"
      ]
     },
     "execution_count": 100,
     "metadata": {},
     "output_type": "execute_result"
    }
   ],
   "source": [
    "km.cluster_centers_\n"
   ]
  },
  {
   "cell_type": "code",
   "execution_count": 101,
   "id": "633a2e9a-b48a-4a26-ad91-24de1af12e01",
   "metadata": {},
   "outputs": [],
   "source": [
    "df0=df[df['predict']==0]\n",
    "df1=df[df['predict']==1]\n",
    "df2=df[df['predict']==2]"
   ]
  },
  {
   "cell_type": "code",
   "execution_count": 122,
   "id": "edc10021-31a7-4395-a8c1-3746a57446d7",
   "metadata": {},
   "outputs": [
    {
     "data": {
      "text/plain": [
       "<matplotlib.collections.PathCollection at 0x245dc739be0>"
      ]
     },
     "execution_count": 122,
     "metadata": {},
     "output_type": "execute_result"
    },
    {
     "data": {
      "image/png": "[encoded data removed]",
      "text/plain": [
       "<Figure size 640x480 with 1 Axes>"
      ]
     },
     "metadata": {},
     "output_type": "display_data"
    }
   ],
   "source": [
    "plt.scatter(df0.Age,df0[\"Income($)\"],color='green',label='Income($)')\n",
    "plt.scatter(df1.Age,df1[\"Income($)\"],color='red',label='Income($)')\n",
    "plt.scatter(df2.Age,df2[\"Income($)\"],color='blue',label='Income($)')\n",
    "plt.xlabel(\"Age\")\n",
    "plt.ylabel(\"Income($)\")\n",
    "plt.legend()\n",
    "plt.scatter(km.cluster_centers_[:,0],km.cluster_centers_[:,1],marker=\"*\",color=\"black\",label=\"centriod\")"
   ]
  },
  {
   "cell_type": "code",
   "execution_count": 118,
   "id": "d9895903-2b10-4988-a64e-c7c69d9426aa",
   "metadata": {},
   "outputs": [],
   "source": [
    "import numpy as np\n",
    "sse=[]\n",
    "k_val=np.arange(1,10)\n",
    "for k in k_val:\n",
    "    ke=KMeans(n_clusters=k)\n",
    "    ke.fit(df[[\"Age\",\"Income($)\"]])\n",
    "    sse.append(ke.inertia_)"
   ]
  },
  {
   "cell_type": "code",
   "execution_count": 119,
   "id": "d182c416-f25b-40df-9c2e-537555db38f5",
   "metadata": {},
   "outputs": [
    {
     "data": {
      "text/plain": [
       "[5.434011511988178,\n",
       " 2.3456144914725936,\n",
       " 0.4750783498553096,\n",
       " 0.40365551195705296,\n",
       " 0.2963623258321304,\n",
       " 0.23142796736163201,\n",
       " 0.21242325078867247,\n",
       " 0.13781880133764024,\n",
       " 0.11056185254866237]"
      ]
     },
     "execution_count": 119,
     "metadata": {},
     "output_type": "execute_result"
    }
   ],
   "source": [
    "sse"
   ]
  },
  {
   "cell_type": "code",
   "execution_count": 120,
   "id": "1a5d735c-f2b2-4879-9c1f-7258ab7e4508",
   "metadata": {},
   "outputs": [
    {
     "data": {
      "text/plain": [
       "[<matplotlib.lines.Line2D at 0x245dc755f40>]"
      ]
     },
     "execution_count": 120,
     "metadata": {},
     "output_type": "execute_result"
    },
    {
     "data": {
      "image/png": "[encoded data removed]",
      "text/plain": [
       "<Figure size 640x480 with 1 Axes>"
      ]
     },
     "metadata": {},
     "output_type": "display_data"
    }
   ],
   "source": [
    "plt.xlabel(\"K\")\n",
    "plt.ylabel(\"Sum of Squared error\")\n",
    "plt.plot(kv,sse)"
   ]
  },
  {
   "cell_type": "code",
   "execution_count": null,
   "id": "c4405416-4be7-43ac-9a13-7dd77a5f2339",
   "metadata": {},
   "outputs": [],
   "source": []
  }
 ],
 "metadata": {
  "kernelspec": {
   "display_name": "Python 3 (ipykernel)",
   "language": "python",
   "name": "python3"
  },
  "language_info": {
   "codemirror_mode": {
    "name": "ipython",
    "version": 3
   },
   "file_extension": ".py",
   "mimetype": "text/x-python",
   "name": "python",
   "nbconvert_exporter": "python",
   "pygments_lexer": "ipython3",
   "version": "3.12.3"
  }
 },
 "nbformat": 4,
 "nbformat_minor": 5
}
