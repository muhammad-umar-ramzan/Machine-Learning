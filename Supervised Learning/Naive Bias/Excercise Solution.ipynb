{
 "cells": [
  {
   "cell_type": "code",
   "execution_count": 1,
   "id": "341fc0eb-4c0f-415c-a940-dfc8cd7bd730",
   "metadata": {},
   "outputs": [],
   "source": [
    "import pandas as pd\n",
    "import matplotlib as plt\n",
    "import seaborn as sns\n",
    "from sklearn.datasets import load_wine"
   ]
  },
  {
   "cell_type": "code",
   "execution_count": 2,
   "id": "ea36813c-8ea1-4a25-8549-6bc20e0f47bc",
   "metadata": {},
   "outputs": [],
   "source": [
    "wine=load_wine()"
   ]
  },
  {
   "cell_type": "code",
   "execution_count": 5,
   "id": "4b67f17f-9e4d-4f7b-8a33-497a89a2a9b8",
   "metadata": {},
   "outputs": [],
   "source": [
    "df=pd.DataFrame(wine.data,columns=wine.feature_names)"
   ]
  },
  {
   "cell_type": "code",
   "execution_count": 7,
   "id": "439692d9-d721-43d9-a734-a97ba768ba90",
   "metadata": {},
   "outputs": [],
   "source": [
    "df[\"target\"]=wine.target"
   ]
  },
  {
   "cell_type": "code",
   "execution_count": 13,
   "id": "2d4ec2ca-7204-439b-b402-c236b3b4fe59",
   "metadata": {},
   "outputs": [],
   "source": [
    "df[\"target_name\"]=df.target.apply(lambda x: wine.target_names[x])"
   ]
  },
  {
   "cell_type": "code",
   "execution_count": 15,
   "id": "dcd68297-a549-4af7-b970-1ba38c5b767a",
   "metadata": {},
   "outputs": [
    {
     "data": {
      "text/plain": [
       "array(['class_0', 'class_1', 'class_2'], dtype=object)"
      ]
     },
     "execution_count": 15,
     "metadata": {},
     "output_type": "execute_result"
    }
   ],
   "source": [
    "df[\"target_name\"].unique()"
   ]
  },
  {
   "cell_type": "code",
   "execution_count": 43,
   "id": "562ae029-0777-4837-bc12-813ede7978f7",
   "metadata": {},
   "outputs": [],
   "source": [
    "x=df.drop([\"target\",\"target_name\"],axis=1)\n",
    "y=df.target"
   ]
  },
  {
   "cell_type": "code",
   "execution_count": 48,
   "id": "47f11c63-64ac-46d4-a543-7605f27dce50",
   "metadata": {},
   "outputs": [],
   "source": [
    "from sklearn.model_selection import train_test_split\n",
    "x_train,x_test,y_train,y_test=train_test_split(x,y,test_size=0.2)"
   ]
  },
  {
   "cell_type": "code",
   "execution_count": 59,
   "id": "8e541deb-5ff2-4086-8bcc-ff8b5e60f55a",
   "metadata": {},
   "outputs": [
    {
     "data": {
      "text/plain": [
       "1.0"
      ]
     },
     "execution_count": 59,
     "metadata": {},
     "output_type": "execute_result"
    }
   ],
   "source": [
    "from sklearn.naive_bayes import GaussianNB\n",
    "naive=GaussianNB()\n",
    "naive.fit(x_train,y_train)\n",
    "naive.score(x_test,y_test)"
   ]
  },
  {
   "cell_type": "code",
   "execution_count": 51,
   "id": "51393117-4a1b-4349-9b61-97f0c4c28a04",
   "metadata": {},
   "outputs": [],
   "source": [
    "y_predict=naive.predict(x_test)\n",
    "from sklearn.metrics import classification_report\n",
    "cr=classification_report(y_test,y_predict)"
   ]
  },
  {
   "cell_type": "code",
   "execution_count": 53,
   "id": "e6ba6746-de7c-4b9d-840d-cde96c2f88f5",
   "metadata": {},
   "outputs": [
    {
     "name": "stdout",
     "output_type": "stream",
     "text": [
      "              precision    recall  f1-score   support\n",
      "\n",
      "           0       1.00      1.00      1.00        11\n",
      "           1       1.00      1.00      1.00        14\n",
      "           2       1.00      1.00      1.00        11\n",
      "\n",
      "    accuracy                           1.00        36\n",
      "   macro avg       1.00      1.00      1.00        36\n",
      "weighted avg       1.00      1.00      1.00        36\n",
      "\n"
     ]
    }
   ],
   "source": [
    "print(cr)"
   ]
  },
  {
   "cell_type": "code",
   "execution_count": 54,
   "id": "81780713-c14e-40d3-b2e2-c88138dfece2",
   "metadata": {},
   "outputs": [],
   "source": [
    "from sklearn.metrics import confusion_matrix\n",
    "ce=confusion_matrix(y_test,y_predict)"
   ]
  },
  {
   "cell_type": "code",
   "execution_count": 55,
   "id": "4229cd88-37cc-41ba-907e-3f3594fb49ca",
   "metadata": {},
   "outputs": [
    {
     "data": {
      "text/plain": [
       "array([[11,  0,  0],\n",
       "       [ 0, 14,  0],\n",
       "       [ 0,  0, 11]], dtype=int64)"
      ]
     },
     "execution_count": 55,
     "metadata": {},
     "output_type": "execute_result"
    }
   ],
   "source": [
    "ce"
   ]
  },
  {
   "cell_type": "code",
   "execution_count": 56,
   "id": "4f41df26-8279-477d-a616-d9808a93e430",
   "metadata": {},
   "outputs": [
    {
     "data": {
      "text/plain": [
       "<Axes: >"
      ]
     },
     "execution_count": 56,
     "metadata": {},
     "output_type": "execute_result"
    },
    {
     "data": {
      "image/png": "[encoded data removed]",
      "text/plain": [
       "<Figure size 640x480 with 2 Axes>"
      ]
     },
     "metadata": {},
     "output_type": "display_data"
    }
   ],
   "source": [
    "sns.heatmap(ce,annot=True)"
   ]
  },
  {
   "cell_type": "code",
   "execution_count": 57,
   "id": "ba22fba0-38bc-4242-bd7e-63a0187aaf67",
   "metadata": {},
   "outputs": [
    {
     "data": {
      "text/plain": [
       "array([[4.79200467e-09, 9.99999995e-01, 1.30303994e-16],\n",
       "       [9.99998033e-01, 1.96682717e-06, 5.07209864e-32],\n",
       "       [2.64153078e-22, 9.75180804e-19, 1.00000000e+00],\n",
       "       [1.00000000e+00, 5.15062376e-14, 1.91097018e-43],\n",
       "       [2.68023167e-02, 9.73197683e-01, 1.20151470e-21],\n",
       "       [8.98446166e-18, 9.57874901e-14, 1.00000000e+00],\n",
       "       [7.90444428e-22, 6.29283961e-16, 1.00000000e+00],\n",
       "       [5.99958633e-23, 1.19953939e-15, 1.00000000e+00],\n",
       "       [9.99931468e-01, 6.85323824e-05, 1.28360537e-30],\n",
       "       [9.99999995e-01, 4.85879154e-09, 9.40471287e-30],\n",
       "       [1.24268816e-09, 9.99999999e-01, 4.28623671e-27],\n",
       "       [2.42196241e-22, 6.62025913e-14, 1.00000000e+00],\n",
       "       [4.12412815e-23, 2.11889306e-17, 1.00000000e+00],\n",
       "       [8.54593180e-16, 9.99292302e-01, 7.07697701e-04],\n",
       "       [4.63904986e-12, 1.00000000e+00, 5.49010334e-14],\n",
       "       [9.99794158e-01, 2.05842110e-04, 6.58911175e-22],\n",
       "       [9.99986470e-01, 1.35296760e-05, 5.30838122e-32],\n",
       "       [1.62319080e-06, 9.99998377e-01, 8.51927475e-24],\n",
       "       [1.79065853e-07, 9.99999821e-01, 1.24273523e-32],\n",
       "       [1.29400932e-01, 8.70599068e-01, 2.66935088e-36],\n",
       "       [1.00000000e+00, 2.50565739e-14, 4.73199719e-35],\n",
       "       [1.48537421e-04, 9.99851463e-01, 6.15311187e-28],\n",
       "       [4.84078053e-09, 9.99999995e-01, 9.64325423e-19],\n",
       "       [1.00000000e+00, 2.63764673e-10, 5.88666919e-45],\n",
       "       [1.19909870e-07, 9.99999880e-01, 4.39384983e-23],\n",
       "       [1.35037625e-16, 2.73484653e-04, 9.99726515e-01],\n",
       "       [1.54531402e-17, 1.00000000e+00, 3.48114688e-31],\n",
       "       [1.00000000e+00, 1.05139542e-20, 1.49044388e-57],\n",
       "       [1.00000000e+00, 5.24764555e-11, 1.71984031e-33],\n",
       "       [9.63746346e-12, 9.99999999e-01, 7.71140239e-10],\n",
       "       [3.88511962e-24, 2.20279044e-05, 9.99977972e-01],\n",
       "       [8.95366570e-16, 2.47523728e-04, 9.99752476e-01],\n",
       "       [9.99995987e-01, 4.01290378e-06, 3.58214820e-33],\n",
       "       [6.20174192e-18, 3.69418440e-11, 1.00000000e+00],\n",
       "       [2.45026839e-29, 4.93034120e-06, 9.99995070e-01],\n",
       "       [5.02648089e-08, 9.99999950e-01, 2.62399956e-66]])"
      ]
     },
     "execution_count": 57,
     "metadata": {},
     "output_type": "execute_result"
    }
   ],
   "source": [
    "naive.predict_proba(x_test)"
   ]
  },
  {
   "cell_type": "code",
   "execution_count": null,
   "id": "c63bbce7-fb12-4ba2-90a4-59dbefde3aaa",
   "metadata": {},
   "outputs": [],
   "source": []
  }
 ],
 "metadata": {
  "kernelspec": {
   "display_name": "Python 3 (ipykernel)",
   "language": "python",
   "name": "python3"
  },
  "language_info": {
   "codemirror_mode": {
    "name": "ipython",
    "version": 3
   },
   "file_extension": ".py",
   "mimetype": "text/x-python",
   "name": "python",
   "nbconvert_exporter": "python",
   "pygments_lexer": "ipython3",
   "version": "3.12.3"
  }
 },
 "nbformat": 4,
 "nbformat_minor": 5
}
