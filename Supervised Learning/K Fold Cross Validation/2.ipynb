{
 "cells": [
  {
   "cell_type": "code",
   "execution_count": 96,
   "id": "2e4fba1b-2c20-4f7f-ba9c-cb716c3f604b",
   "metadata": {},
   "outputs": [],
   "source": [
    "import pandas as pd\n",
    "import numpy as np\n",
    "from sklearn.datasets import load_wine\n",
    "from sklearn.linear_model import LogisticRegression\n",
    "from sklearn.ensemble import RandomForestClassifier\n",
    "from sklearn.svm import SVC\n",
    "from sklearn.model_selection import cross_val_score"
   ]
  },
  {
   "cell_type": "code",
   "execution_count": 86,
   "id": "55cba09c-ed1c-432a-936e-4f5d5a886d76",
   "metadata": {},
   "outputs": [],
   "source": [
    "wine=load_wine()"
   ]
  },
  {
   "cell_type": "code",
   "execution_count": 95,
   "id": "05569f02-0124-4da7-801b-7514ee2d1700",
   "metadata": {},
   "outputs": [],
   "source": [
    "data={\n",
    "    'LogisticRegression':{\n",
    "        'model':LogisticRegression(max_iter=5000)\n",
    "    },\n",
    "    'RandomForestClassifier':{\n",
    "        'model':RandomForestClassifier(n_estimators=10)\n",
    "    },\n",
    "    'Svm':{\n",
    "        'model':SVC(C=10)\n",
    "    }}\n",
    "\n"
   ]
  },
  {
   "cell_type": "code",
   "execution_count": 124,
   "id": "b3f11a46-7181-499b-ba1a-808ac94b7f72",
   "metadata": {},
   "outputs": [],
   "source": [
    "result=[]\n",
    "for name,value in data.items():\n",
    "    result.append(cross_val_score(value['model'],wine.data,wine.target))"
   ]
  },
  {
   "cell_type": "code",
   "execution_count": 137,
   "id": "73a1eb98-9323-4ed4-a163-5eb57296f58f",
   "metadata": {},
   "outputs": [
    {
     "data": {
      "text/html": [
       "<div>\n",
       "<style scoped>\n",
       "    .dataframe tbody tr th:only-of-type {\n",
       "        vertical-align: middle;\n",
       "    }\n",
       "\n",
       "    .dataframe tbody tr th {\n",
       "        vertical-align: top;\n",
       "    }\n",
       "\n",
       "    .dataframe thead th {\n",
       "        text-align: right;\n",
       "    }\n",
       "</style>\n",
       "<table border=\"1\" class=\"dataframe\">\n",
       "  <thead>\n",
       "    <tr style=\"text-align: right;\">\n",
       "      <th></th>\n",
       "      <th>LogisticRegression</th>\n",
       "      <th>RandomForest</th>\n",
       "      <th>Svm</th>\n",
       "    </tr>\n",
       "  </thead>\n",
       "  <tbody>\n",
       "    <tr>\n",
       "      <th>0</th>\n",
       "      <td>0.972222</td>\n",
       "      <td>0.888889</td>\n",
       "      <td>0.750000</td>\n",
       "    </tr>\n",
       "    <tr>\n",
       "      <th>1</th>\n",
       "      <td>0.916667</td>\n",
       "      <td>0.944444</td>\n",
       "      <td>0.666667</td>\n",
       "    </tr>\n",
       "    <tr>\n",
       "      <th>2</th>\n",
       "      <td>0.916667</td>\n",
       "      <td>1.000000</td>\n",
       "      <td>0.666667</td>\n",
       "    </tr>\n",
       "    <tr>\n",
       "      <th>3</th>\n",
       "      <td>1.000000</td>\n",
       "      <td>1.000000</td>\n",
       "      <td>0.714286</td>\n",
       "    </tr>\n",
       "    <tr>\n",
       "      <th>4</th>\n",
       "      <td>1.000000</td>\n",
       "      <td>1.000000</td>\n",
       "      <td>0.800000</td>\n",
       "    </tr>\n",
       "  </tbody>\n",
       "</table>\n",
       "</div>"
      ],
      "text/plain": [
       "   LogisticRegression  RandomForest       Svm\n",
       "0            0.972222      0.888889  0.750000\n",
       "1            0.916667      0.944444  0.666667\n",
       "2            0.916667      1.000000  0.666667\n",
       "3            1.000000      1.000000  0.714286\n",
       "4            1.000000      1.000000  0.800000"
      ]
     },
     "execution_count": 137,
     "metadata": {},
     "output_type": "execute_result"
    }
   ],
   "source": [
    "df=pd.DataFrame(result)\n",
    "df=df.transpose()\n",
    "df.columns=['LogisticRegression','RandomForest','Svm']\n",
    "df"
   ]
  },
  {
   "cell_type": "code",
   "execution_count": 138,
   "id": "68163c89-994c-46c0-ad23-0abaa4ba84cf",
   "metadata": {},
   "outputs": [
    {
     "data": {
      "text/plain": [
       "0.961111111111111"
      ]
     },
     "execution_count": 138,
     "metadata": {},
     "output_type": "execute_result"
    }
   ],
   "source": [
    "df['LogisticRegression'].mean()"
   ]
  },
  {
   "cell_type": "code",
   "execution_count": 139,
   "id": "ae960017-6713-4c6c-b6ac-f72f44ec62c5",
   "metadata": {},
   "outputs": [
    {
     "data": {
      "text/plain": [
       "0.9666666666666666"
      ]
     },
     "execution_count": 139,
     "metadata": {},
     "output_type": "execute_result"
    }
   ],
   "source": [
    "df['RandomForest'].mean()"
   ]
  },
  {
   "cell_type": "code",
   "execution_count": 140,
   "id": "2ad14fef-9515-44b5-af18-62dc5fbb7601",
   "metadata": {},
   "outputs": [
    {
     "data": {
      "text/plain": [
       "0.7195238095238095"
      ]
     },
     "execution_count": 140,
     "metadata": {},
     "output_type": "execute_result"
    }
   ],
   "source": [
    "df['Svm'].mean()"
   ]
  },
  {
   "cell_type": "code",
   "execution_count": 141,
   "id": "858d2708-3e61-436f-b576-9d7a28124341",
   "metadata": {},
   "outputs": [],
   "source": [
    "df.loc[len(df)]=[df['LogisticRegression'].mean(),df['RandomForest'].mean(),df['Svm'].mean()]"
   ]
  },
  {
   "cell_type": "code",
   "execution_count": 144,
   "id": "69ece7e9-7ee0-4237-b46b-2d6c95b25b22",
   "metadata": {},
   "outputs": [],
   "source": [
    "df.index=(0,1,2,3,4,'Average')"
   ]
  },
  {
   "cell_type": "code",
   "execution_count": 145,
   "id": "3fa9e326-3b06-4950-92bd-10d7fc5518d7",
   "metadata": {},
   "outputs": [
    {
     "data": {
      "text/html": [
       "<div>\n",
       "<style scoped>\n",
       "    .dataframe tbody tr th:only-of-type {\n",
       "        vertical-align: middle;\n",
       "    }\n",
       "\n",
       "    .dataframe tbody tr th {\n",
       "        vertical-align: top;\n",
       "    }\n",
       "\n",
       "    .dataframe thead th {\n",
       "        text-align: right;\n",
       "    }\n",
       "</style>\n",
       "<table border=\"1\" class=\"dataframe\">\n",
       "  <thead>\n",
       "    <tr style=\"text-align: right;\">\n",
       "      <th></th>\n",
       "      <th>LogisticRegression</th>\n",
       "      <th>RandomForest</th>\n",
       "      <th>Svm</th>\n",
       "    </tr>\n",
       "  </thead>\n",
       "  <tbody>\n",
       "    <tr>\n",
       "      <th>0</th>\n",
       "      <td>0.972222</td>\n",
       "      <td>0.888889</td>\n",
       "      <td>0.750000</td>\n",
       "    </tr>\n",
       "    <tr>\n",
       "      <th>1</th>\n",
       "      <td>0.916667</td>\n",
       "      <td>0.944444</td>\n",
       "      <td>0.666667</td>\n",
       "    </tr>\n",
       "    <tr>\n",
       "      <th>2</th>\n",
       "      <td>0.916667</td>\n",
       "      <td>1.000000</td>\n",
       "      <td>0.666667</td>\n",
       "    </tr>\n",
       "    <tr>\n",
       "      <th>3</th>\n",
       "      <td>1.000000</td>\n",
       "      <td>1.000000</td>\n",
       "      <td>0.714286</td>\n",
       "    </tr>\n",
       "    <tr>\n",
       "      <th>4</th>\n",
       "      <td>1.000000</td>\n",
       "      <td>1.000000</td>\n",
       "      <td>0.800000</td>\n",
       "    </tr>\n",
       "    <tr>\n",
       "      <th>Average</th>\n",
       "      <td>0.961111</td>\n",
       "      <td>0.966667</td>\n",
       "      <td>0.719524</td>\n",
       "    </tr>\n",
       "  </tbody>\n",
       "</table>\n",
       "</div>"
      ],
      "text/plain": [
       "         LogisticRegression  RandomForest       Svm\n",
       "0                  0.972222      0.888889  0.750000\n",
       "1                  0.916667      0.944444  0.666667\n",
       "2                  0.916667      1.000000  0.666667\n",
       "3                  1.000000      1.000000  0.714286\n",
       "4                  1.000000      1.000000  0.800000\n",
       "Average            0.961111      0.966667  0.719524"
      ]
     },
     "execution_count": 145,
     "metadata": {},
     "output_type": "execute_result"
    }
   ],
   "source": [
    "df"
   ]
  },
  {
   "cell_type": "code",
   "execution_count": null,
   "id": "739c8ee5-3919-4840-892f-9a250cc156b4",
   "metadata": {},
   "outputs": [],
   "source": []
  }
 ],
 "metadata": {
  "kernelspec": {
   "display_name": "Python 3 (ipykernel)",
   "language": "python",
   "name": "python3"
  },
  "language_info": {
   "codemirror_mode": {
    "name": "ipython",
    "version": 3
   },
   "file_extension": ".py",
   "mimetype": "text/x-python",
   "name": "python",
   "nbconvert_exporter": "python",
   "pygments_lexer": "ipython3",
   "version": "3.12.3"
  }
 },
 "nbformat": 4,
 "nbformat_minor": 5
}
