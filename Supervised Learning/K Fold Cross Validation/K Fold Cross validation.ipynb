{
 "cells": [
  {
   "cell_type": "code",
   "execution_count": 1,
   "id": "2120bec8-0c98-4565-882a-83889a682fd0",
   "metadata": {},
   "outputs": [],
   "source": [
    "from sklearn.datasets import load_digits\n",
    "from sklearn.linear_model import LogisticRegression\n",
    "from sklearn.ensemble import RandomForestClassifier\n",
    "from sklearn.svm import SVC\n",
    "from sklearn.model_selection import cross_val_score"
   ]
  },
  {
   "cell_type": "code",
   "execution_count": 2,
   "id": "24db42b1-61f8-4e91-bc82-3f70d51ef4dc",
   "metadata": {},
   "outputs": [],
   "source": [
    "digit=load_digits()"
   ]
  },
  {
   "cell_type": "code",
   "execution_count": 5,
   "id": "69516adc-9d62-461c-809a-748ccd5ff3e2",
   "metadata": {},
   "outputs": [
    {
     "data": {
      "text/plain": [
       "array([0.92222222, 0.87222222, 0.94150418, 0.94150418, 0.89693593])"
      ]
     },
     "execution_count": 5,
     "metadata": {},
     "output_type": "execute_result"
    }
   ],
   "source": [
    "cross_val_score(LogisticRegression(solver='lbfgs', max_iter=1000),digit.data,digit.target)"
   ]
  },
  {
   "cell_type": "code",
   "execution_count": 9,
   "id": "407699e7-b9c4-468e-8f04-fb1dda9d0b30",
   "metadata": {},
   "outputs": [
    {
     "data": {
      "text/plain": [
       "array([0.96111111, 0.94444444, 0.98328691, 0.98885794, 0.93871866])"
      ]
     },
     "execution_count": 9,
     "metadata": {},
     "output_type": "execute_result"
    }
   ],
   "source": [
    "cross_val_score(SVC(),digit.data,digit.target)"
   ]
  },
  {
   "cell_type": "code",
   "execution_count": 8,
   "id": "6ca9478e-4582-4303-9bb2-9e0fcfc4937f",
   "metadata": {},
   "outputs": [
    {
     "data": {
      "text/plain": [
       "array([0.92777778, 0.90277778, 0.96935933, 0.97214485, 0.92479109])"
      ]
     },
     "execution_count": 8,
     "metadata": {},
     "output_type": "execute_result"
    }
   ],
   "source": [
    "cross_val_score(RandomForestClassifier(n_estimators=40),digit.data,digit.target,)"
   ]
  },
  {
   "cell_type": "code",
   "execution_count": null,
   "id": "6ac18ddf-8008-4cb0-9eb4-e35251da7f71",
   "metadata": {},
   "outputs": [],
   "source": []
  }
 ],
 "metadata": {
  "kernelspec": {
   "display_name": "Python 3 (ipykernel)",
   "language": "python",
   "name": "python3"
  },
  "language_info": {
   "codemirror_mode": {
    "name": "ipython",
    "version": 3
   },
   "file_extension": ".py",
   "mimetype": "text/x-python",
   "name": "python",
   "nbconvert_exporter": "python",
   "pygments_lexer": "ipython3",
   "version": "3.12.3"
  }
 },
 "nbformat": 4,
 "nbformat_minor": 5
}
