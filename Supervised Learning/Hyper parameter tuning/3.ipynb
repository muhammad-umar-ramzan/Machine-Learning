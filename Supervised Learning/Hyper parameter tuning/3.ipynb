{
 "cells": [
  {
   "cell_type": "code",
   "execution_count": 5,
   "id": "bf19213a-cc87-4775-8dcb-39719fb84cb0",
   "metadata": {},
   "outputs": [],
   "source": [
    "import pandas as pd\n",
    "from sklearn.linear_model import LogisticRegression\n",
    "from sklearn.svm import SVC\n",
    "from sklearn.ensemble import RandomForestClassifier\n",
    "from sklearn.model_selection import GridSearchCV"
   ]
  },
  {
   "cell_type": "code",
   "execution_count": 2,
   "id": "f474e45d-45dd-429f-be15-e5c7e5a92169",
   "metadata": {},
   "outputs": [],
   "source": [
    "from sklearn.datasets import load_iris"
   ]
  },
  {
   "cell_type": "code",
   "execution_count": 3,
   "id": "845ac340-d8a8-478d-8af6-678802224ab7",
   "metadata": {},
   "outputs": [],
   "source": [
    "iris=load_iris()"
   ]
  },
  {
   "cell_type": "code",
   "execution_count": 4,
   "id": "111cec1c-f7d2-4013-9934-d347664d92e6",
   "metadata": {},
   "outputs": [],
   "source": [
    "data={\n",
    "    'LogisticRegression':{\n",
    "        'model':LogisticRegression(solver='liblinear'),\n",
    "        'params':{'C':[1,5,10]}\n",
    "    },\n",
    "    'Svm':{\n",
    "        'model':SVC(gamma='auto'),\n",
    "        'params':{'kernel':['rbf','linear'],\n",
    "                 'C':[1,5,10]}\n",
    "    },\n",
    "    'RandomForest':{\n",
    "        'model':RandomForestClassifier(),\n",
    "        'params':{'n_estimators':[5,10,50]}\n",
    "    }\n",
    "}"
   ]
  },
  {
   "cell_type": "code",
   "execution_count": 6,
   "id": "e7e9d27b-a55a-42d3-97ef-ed556ae9411e",
   "metadata": {},
   "outputs": [],
   "source": [
    "result=[]\n",
    "for name,value in data.items():\n",
    "    cv=GridSearchCV(value[\"model\"],value[\"params\"],return_train_score=False)\n",
    "    cv.fit(iris.data,iris.target)\n",
    "    result.append({\n",
    "        'model_name':name,\n",
    "        'best_params':cv.best_params_,\n",
    "        'best_score':cv.best_score_\n",
    "         }\n",
    "    )"
   ]
  },
  {
   "cell_type": "code",
   "execution_count": 8,
   "id": "9e5597ae-ea4c-44dc-aa1c-b69c4f7faedd",
   "metadata": {},
   "outputs": [],
   "source": [
    "df=pd.DataFrame(result)"
   ]
  },
  {
   "cell_type": "code",
   "execution_count": 9,
   "id": "f93c35bc-3c1d-4605-8719-0880c7073561",
   "metadata": {},
   "outputs": [
    {
     "data": {
      "text/html": [
       "<div>\n",
       "<style scoped>\n",
       "    .dataframe tbody tr th:only-of-type {\n",
       "        vertical-align: middle;\n",
       "    }\n",
       "\n",
       "    .dataframe tbody tr th {\n",
       "        vertical-align: top;\n",
       "    }\n",
       "\n",
       "    .dataframe thead th {\n",
       "        text-align: right;\n",
       "    }\n",
       "</style>\n",
       "<table border=\"1\" class=\"dataframe\">\n",
       "  <thead>\n",
       "    <tr style=\"text-align: right;\">\n",
       "      <th></th>\n",
       "      <th>model_name</th>\n",
       "      <th>best_params</th>\n",
       "      <th>best_score</th>\n",
       "    </tr>\n",
       "  </thead>\n",
       "  <tbody>\n",
       "    <tr>\n",
       "      <th>0</th>\n",
       "      <td>LogisticRegression</td>\n",
       "      <td>{'C': 5}</td>\n",
       "      <td>0.966667</td>\n",
       "    </tr>\n",
       "    <tr>\n",
       "      <th>1</th>\n",
       "      <td>Svm</td>\n",
       "      <td>{'C': 1, 'kernel': 'rbf'}</td>\n",
       "      <td>0.980000</td>\n",
       "    </tr>\n",
       "    <tr>\n",
       "      <th>2</th>\n",
       "      <td>RandomForest</td>\n",
       "      <td>{'n_estimators': 5}</td>\n",
       "      <td>0.953333</td>\n",
       "    </tr>\n",
       "  </tbody>\n",
       "</table>\n",
       "</div>"
      ],
      "text/plain": [
       "           model_name                best_params  best_score\n",
       "0  LogisticRegression                   {'C': 5}    0.966667\n",
       "1                 Svm  {'C': 1, 'kernel': 'rbf'}    0.980000\n",
       "2        RandomForest        {'n_estimators': 5}    0.953333"
      ]
     },
     "execution_count": 9,
     "metadata": {},
     "output_type": "execute_result"
    }
   ],
   "source": [
    "df"
   ]
  },
  {
   "cell_type": "code",
   "execution_count": null,
   "id": "8cf26806-3aa7-42ce-a350-c4c09ee92c38",
   "metadata": {},
   "outputs": [],
   "source": []
  }
 ],
 "metadata": {
  "kernelspec": {
   "display_name": "Python 3 (ipykernel)",
   "language": "python",
   "name": "python3"
  },
  "language_info": {
   "codemirror_mode": {
    "name": "ipython",
    "version": 3
   },
   "file_extension": ".py",
   "mimetype": "text/x-python",
   "name": "python",
   "nbconvert_exporter": "python",
   "pygments_lexer": "ipython3",
   "version": "3.12.3"
  }
 },
 "nbformat": 4,
 "nbformat_minor": 5
}
