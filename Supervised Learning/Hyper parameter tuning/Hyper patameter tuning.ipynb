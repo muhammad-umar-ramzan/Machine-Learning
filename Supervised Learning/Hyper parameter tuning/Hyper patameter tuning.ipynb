{
 "cells": [
  {
   "cell_type": "code",
   "execution_count": 34,
   "id": "efea74b4-d501-4289-aca2-f4039474df5b",
   "metadata": {},
   "outputs": [],
   "source": [
    "from sklearn.model_selection import GridSearchCV\n",
    "from sklearn.svm import SVC"
   ]
  },
  {
   "cell_type": "code",
   "execution_count": 5,
   "id": "19d15736-4403-40cd-a6d3-23217285b712",
   "metadata": {},
   "outputs": [],
   "source": [
    "from sklearn.datasets import load_digits\n",
    "digits=load_digits()"
   ]
  },
  {
   "cell_type": "code",
   "execution_count": 20,
   "id": "21d47b47-3047-4658-97cb-1b9d43f69e80",
   "metadata": {},
   "outputs": [],
   "source": [
    "cv=GridSearchCV(SVC(gamma=\"auto\"),{'C':[1,10,20],'kernel':['rbf','linear']},return_train_score=False)"
   ]
  },
  {
   "cell_type": "code",
   "execution_count": 21,
   "id": "3e29b6c3-f23e-4e23-82bd-05c3d841fd7a",
   "metadata": {},
   "outputs": [],
   "source": [
    "res=cv.fit(digits.data,digits.target)"
   ]
  },
  {
   "cell_type": "code",
   "execution_count": 24,
   "id": "4ece089d-c847-4c15-b257-a326620773cf",
   "metadata": {},
   "outputs": [],
   "source": [
    "import pandas as pd"
   ]
  },
  {
   "cell_type": "code",
   "execution_count": 25,
   "id": "22da184e-957b-427a-bbbd-9a05307299a1",
   "metadata": {},
   "outputs": [],
   "source": [
    "df=pd.DataFrame(res.cv_results_)"
   ]
  },
  {
   "cell_type": "code",
   "execution_count": 27,
   "id": "115621a6-d30c-4e7e-a992-88b492bc41f5",
   "metadata": {},
   "outputs": [
    {
     "data": {
      "text/html": [
       "<div>\n",
       "<style scoped>\n",
       "    .dataframe tbody tr th:only-of-type {\n",
       "        vertical-align: middle;\n",
       "    }\n",
       "\n",
       "    .dataframe tbody tr th {\n",
       "        vertical-align: top;\n",
       "    }\n",
       "\n",
       "    .dataframe thead th {\n",
       "        text-align: right;\n",
       "    }\n",
       "</style>\n",
       "<table border=\"1\" class=\"dataframe\">\n",
       "  <thead>\n",
       "    <tr style=\"text-align: right;\">\n",
       "      <th></th>\n",
       "      <th>param_kernel</th>\n",
       "      <th>params</th>\n",
       "      <th>mean_test_score</th>\n",
       "    </tr>\n",
       "  </thead>\n",
       "  <tbody>\n",
       "    <tr>\n",
       "      <th>0</th>\n",
       "      <td>rbf</td>\n",
       "      <td>{'C': 1, 'kernel': 'rbf'}</td>\n",
       "      <td>0.448545</td>\n",
       "    </tr>\n",
       "    <tr>\n",
       "      <th>1</th>\n",
       "      <td>linear</td>\n",
       "      <td>{'C': 1, 'kernel': 'linear'}</td>\n",
       "      <td>0.947697</td>\n",
       "    </tr>\n",
       "    <tr>\n",
       "      <th>2</th>\n",
       "      <td>rbf</td>\n",
       "      <td>{'C': 10, 'kernel': 'rbf'}</td>\n",
       "      <td>0.476366</td>\n",
       "    </tr>\n",
       "    <tr>\n",
       "      <th>3</th>\n",
       "      <td>linear</td>\n",
       "      <td>{'C': 10, 'kernel': 'linear'}</td>\n",
       "      <td>0.947697</td>\n",
       "    </tr>\n",
       "    <tr>\n",
       "      <th>4</th>\n",
       "      <td>rbf</td>\n",
       "      <td>{'C': 20, 'kernel': 'rbf'}</td>\n",
       "      <td>0.476366</td>\n",
       "    </tr>\n",
       "    <tr>\n",
       "      <th>5</th>\n",
       "      <td>linear</td>\n",
       "      <td>{'C': 20, 'kernel': 'linear'}</td>\n",
       "      <td>0.947697</td>\n",
       "    </tr>\n",
       "  </tbody>\n",
       "</table>\n",
       "</div>"
      ],
      "text/plain": [
       "  param_kernel                         params  mean_test_score\n",
       "0          rbf      {'C': 1, 'kernel': 'rbf'}         0.448545\n",
       "1       linear   {'C': 1, 'kernel': 'linear'}         0.947697\n",
       "2          rbf     {'C': 10, 'kernel': 'rbf'}         0.476366\n",
       "3       linear  {'C': 10, 'kernel': 'linear'}         0.947697\n",
       "4          rbf     {'C': 20, 'kernel': 'rbf'}         0.476366\n",
       "5       linear  {'C': 20, 'kernel': 'linear'}         0.947697"
      ]
     },
     "execution_count": 27,
     "metadata": {},
     "output_type": "execute_result"
    }
   ],
   "source": [
    "df[[\"param_kernel\",\"params\",\"mean_test_score\"]]"
   ]
  },
  {
   "cell_type": "code",
   "execution_count": 30,
   "id": "08705c63-eba6-4f0c-b1a8-39db4d0b066a",
   "metadata": {},
   "outputs": [
    {
     "data": {
      "text/plain": [
       "{'C': 1, 'kernel': 'linear'}"
      ]
     },
     "execution_count": 30,
     "metadata": {},
     "output_type": "execute_result"
    }
   ],
   "source": [
    "res.best_params_"
   ]
  },
  {
   "cell_type": "code",
   "execution_count": 31,
   "id": "2852b3d2-be2b-4374-983f-d806e8c2436b",
   "metadata": {},
   "outputs": [],
   "source": [
    "from sklearn.ensemble import RandomForestClassifier\n",
    "from sklearn.linear_model import LogisticRegression"
   ]
  },
  {
   "cell_type": "code",
   "execution_count": 50,
   "id": "79f54bd0-a5e9-4496-96cb-b9ebd8453399",
   "metadata": {},
   "outputs": [],
   "source": [
    "model_params={\n",
    "    'svm':{\n",
    "        'model': SVC(gamma='auto'),\n",
    "        'params':{'kernel':['rbf','linear'],\n",
    "                 'C':[1,5,10]}\n",
    "    },\n",
    "    'RamdomForest':{'model':RandomForestClassifier(),\n",
    "                   'params':{'n_estimators':[5,10,50]}},\n",
    "    'LogisticRegression':{'model':LogisticRegression(solver='liblinear'),\n",
    "                         'params':{'C':[1,5,10]}}\n",
    "    \n",
    "    }"
   ]
  },
  {
   "cell_type": "code",
   "execution_count": 51,
   "id": "93e1d317-42ac-4bc6-b175-595fb3a34030",
   "metadata": {},
   "outputs": [],
   "source": [
    "res=[]\n",
    "for name,param in model_params.items():\n",
    "    ce=GridSearchCV(param['model'],param['params'],cv=5,return_train_score=False)\n",
    "    ce.fit(digits.data,digits.target)\n",
    "    res.append(\n",
    "        {\n",
    "            'model':name,\n",
    "            'best_score':ce.best_score_,\n",
    "            'best_param':ce.best_params_\n",
    "        }\n",
    "    )"
   ]
  },
  {
   "cell_type": "code",
   "execution_count": 52,
   "id": "daccef8e-0a6b-4bc9-9a4f-0272d44df7eb",
   "metadata": {},
   "outputs": [
    {
     "data": {
      "text/plain": [
       "[{'model': 'svm',\n",
       "  'best_score': 0.9476973073351903,\n",
       "  'best_param': {'C': 1, 'kernel': 'linear'}},\n",
       " {'model': 'RamdomForest',\n",
       "  'best_score': 0.9371324667285672,\n",
       "  'best_param': {'n_estimators': 50}},\n",
       " {'model': 'LogisticRegression',\n",
       "  'best_score': 0.9221138966264315,\n",
       "  'best_param': {'C': 1}}]"
      ]
     },
     "execution_count": 52,
     "metadata": {},
     "output_type": "execute_result"
    }
   ],
   "source": [
    "df=pd.DataFrame(res)"
   ]
  },
  {
   "cell_type": "code",
   "execution_count": null,
   "id": "ab10a2af-2db8-40d6-9533-fa82f743c808",
   "metadata": {},
   "outputs": [],
   "source": []
  }
 ],
 "metadata": {
  "kernelspec": {
   "display_name": "Python 3 (ipykernel)",
   "language": "python",
   "name": "python3"
  },
  "language_info": {
   "codemirror_mode": {
    "name": "ipython",
    "version": 3
   },
   "file_extension": ".py",
   "mimetype": "text/x-python",
   "name": "python",
   "nbconvert_exporter": "python",
   "pygments_lexer": "ipython3",
   "version": "3.12.3"
  }
 },
 "nbformat": 4,
 "nbformat_minor": 5
}
