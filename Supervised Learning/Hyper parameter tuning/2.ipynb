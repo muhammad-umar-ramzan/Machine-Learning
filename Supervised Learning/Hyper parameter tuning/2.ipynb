{
 "cells": [
  {
   "cell_type": "code",
   "execution_count": 1,
   "id": "0ae667cc-03a6-4c42-a288-d460910d5abc",
   "metadata": {},
   "outputs": [],
   "source": [
    "import pandas as pd\n",
    "from sklearn.datasets import load_digits\n",
    "from sklearn.naive_bayes import GaussianNB\n",
    "from sklearn.naive_bayes import MultinomialNB\n",
    "from sklearn.svm import SVC\n",
    "from sklearn.tree import DecisionTreeClassifier\n",
    "from sklearn.ensemble import RandomForestClassifier\n",
    "from sklearn.linear_model import LogisticRegression"
   ]
  },
  {
   "cell_type": "code",
   "execution_count": 7,
   "id": "4abe973e-b2e4-47c9-a0f2-a506ce8948ce",
   "metadata": {},
   "outputs": [],
   "source": [
    "digits=load_digits()"
   ]
  },
  {
   "cell_type": "code",
   "execution_count": 13,
   "id": "92df4148-e9d1-459e-955b-9178d82caf2b",
   "metadata": {},
   "outputs": [],
   "source": [
    "data={\n",
    "    'GaussianNB':{\n",
    "        'model':GaussianNB(),\n",
    "        'params':{}\n",
    "    },\n",
    "    'MultinomialNB':{\n",
    "        'model':MultinomialNB(),\n",
    "        'params':{}\n",
    "    },\n",
    "    'SVC':{\n",
    "        'model':SVC(gamma='auto'),\n",
    "        'params':{'kernel':['linear','rbf'],'C':[1,5,10]}\n",
    "    },\n",
    "    'DecisionTree':{\n",
    "        'model':DecisionTreeClassifier(),\n",
    "        'params':{'criterion':['gini','entropy']}\n",
    "    },\n",
    "    'RandomForest':{\n",
    "        'model':RandomForestClassifier(),\n",
    "        'params':{'n_estimators':[5,10,50]}\n",
    "    },\n",
    "    'LogisticRegression':{\n",
    "        'model':LogisticRegression(solver='liblinear'),\n",
    "        'params':{'C':[1,5,10]}\n",
    "    }\n",
    "}"
   ]
  },
  {
   "cell_type": "code",
   "execution_count": 9,
   "id": "e5998896-6993-4815-8b64-4e1da3c81c5c",
   "metadata": {},
   "outputs": [],
   "source": [
    "from sklearn.model_selection import GridSearchCV"
   ]
  },
  {
   "cell_type": "code",
   "execution_count": 14,
   "id": "62e79006-d272-41c3-99c3-7488e546e72f",
   "metadata": {},
   "outputs": [],
   "source": [
    "result=[]\n",
    "for model_name,value in data.items():\n",
    "    cv=GridSearchCV(value[\"model\"],value[\"params\"],cv=5,return_train_score=False)\n",
    "    cv.fit(digits.data,digits.target)\n",
    "    result.append({\n",
    "        'model_name':model_name,\n",
    "        'best_params':cv.best_params_,\n",
    "        'best_score':cv.best_score_\n",
    "    })"
   ]
  },
  {
   "cell_type": "code",
   "execution_count": 16,
   "id": "037dfd88-5cac-455c-a416-d1b5f2b9472c",
   "metadata": {},
   "outputs": [],
   "source": [
    "df=pd.DataFrame(result)"
   ]
  },
  {
   "cell_type": "code",
   "execution_count": 17,
   "id": "d06d18fe-ddcc-49a2-b86b-58c80126ea52",
   "metadata": {},
   "outputs": [
    {
     "data": {
      "text/html": [
       "<div>\n",
       "<style scoped>\n",
       "    .dataframe tbody tr th:only-of-type {\n",
       "        vertical-align: middle;\n",
       "    }\n",
       "\n",
       "    .dataframe tbody tr th {\n",
       "        vertical-align: top;\n",
       "    }\n",
       "\n",
       "    .dataframe thead th {\n",
       "        text-align: right;\n",
       "    }\n",
       "</style>\n",
       "<table border=\"1\" class=\"dataframe\">\n",
       "  <thead>\n",
       "    <tr style=\"text-align: right;\">\n",
       "      <th></th>\n",
       "      <th>model_name</th>\n",
       "      <th>best_params</th>\n",
       "      <th>best_score</th>\n",
       "    </tr>\n",
       "  </thead>\n",
       "  <tbody>\n",
       "    <tr>\n",
       "      <th>0</th>\n",
       "      <td>GaussianNB</td>\n",
       "      <td>{}</td>\n",
       "      <td>0.806928</td>\n",
       "    </tr>\n",
       "    <tr>\n",
       "      <th>1</th>\n",
       "      <td>MultinomialNB</td>\n",
       "      <td>{}</td>\n",
       "      <td>0.870350</td>\n",
       "    </tr>\n",
       "    <tr>\n",
       "      <th>2</th>\n",
       "      <td>SVC</td>\n",
       "      <td>{'C': 1, 'kernel': 'linear'}</td>\n",
       "      <td>0.947697</td>\n",
       "    </tr>\n",
       "    <tr>\n",
       "      <th>3</th>\n",
       "      <td>DecisionTree</td>\n",
       "      <td>{'criterion': 'entropy'}</td>\n",
       "      <td>0.808576</td>\n",
       "    </tr>\n",
       "    <tr>\n",
       "      <th>4</th>\n",
       "      <td>RandomForest</td>\n",
       "      <td>{'n_estimators': 50}</td>\n",
       "      <td>0.937136</td>\n",
       "    </tr>\n",
       "    <tr>\n",
       "      <th>5</th>\n",
       "      <td>LogisticRegression</td>\n",
       "      <td>{'C': 1}</td>\n",
       "      <td>0.922114</td>\n",
       "    </tr>\n",
       "  </tbody>\n",
       "</table>\n",
       "</div>"
      ],
      "text/plain": [
       "           model_name                   best_params  best_score\n",
       "0          GaussianNB                            {}    0.806928\n",
       "1       MultinomialNB                            {}    0.870350\n",
       "2                 SVC  {'C': 1, 'kernel': 'linear'}    0.947697\n",
       "3        DecisionTree      {'criterion': 'entropy'}    0.808576\n",
       "4        RandomForest          {'n_estimators': 50}    0.937136\n",
       "5  LogisticRegression                      {'C': 1}    0.922114"
      ]
     },
     "execution_count": 17,
     "metadata": {},
     "output_type": "execute_result"
    }
   ],
   "source": [
    "df"
   ]
  },
  {
   "cell_type": "code",
   "execution_count": null,
   "id": "219aa0ce-b118-48b3-b0df-d80cc58047a7",
   "metadata": {},
   "outputs": [],
   "source": [
    "#cv(\"Cross Validation\")"
   ]
  },
  {
   "cell_type": "code",
   "execution_count": null,
   "id": "53c87131-c2d4-4751-81a5-23db9e9a9efa",
   "metadata": {},
   "outputs": [],
   "source": []
  }
 ],
 "metadata": {
  "kernelspec": {
   "display_name": "Python 3 (ipykernel)",
   "language": "python",
   "name": "python3"
  },
  "language_info": {
   "codemirror_mode": {
    "name": "ipython",
    "version": 3
   },
   "file_extension": ".py",
   "mimetype": "text/x-python",
   "name": "python",
   "nbconvert_exporter": "python",
   "pygments_lexer": "ipython3",
   "version": "3.12.3"
  }
 },
 "nbformat": 4,
 "nbformat_minor": 5
}
